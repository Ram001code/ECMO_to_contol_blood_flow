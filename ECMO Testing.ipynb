{
 "cells": [
  {
   "cell_type": "code",
   "execution_count": 1,
   "id": "6c93efb3",
   "metadata": {},
   "outputs": [],
   "source": [
    "from keras.models import load_model\n",
    "model = load_model('my_model.h5')"
   ]
  },
  {
   "cell_type": "code",
   "execution_count": 2,
   "id": "ae242993",
   "metadata": {},
   "outputs": [
    {
     "name": "stdout",
     "output_type": "stream",
     "text": [
      "Enter Height:175\n",
      "Enter Weight:70\n",
      "  \n",
      "\n",
      "Height(cm)=  175\n",
      "Weight(Kg)=  70\n",
      "Body surface area(BAS)=  1.8446619684315546\n",
      "Calculated Flow(lit/min)=  4.427188724235731\n"
     ]
    }
   ],
   "source": [
    "import math\n",
    "\n",
    "a=  int(input('Enter Height:'))\n",
    "b=  int(input('Enter Weight:'))\n",
    "\n",
    "\n",
    "c= math.sqrt(a*b/3600)\n",
    "\n",
    "d= c*2.4\n",
    "\n",
    "\n",
    "print('  \\n')\n",
    "print('Height(cm)= ', a)\n",
    "print('Weight(Kg)= ', b)\n",
    "print('Body surface area(BAS)= ', c)\n",
    "print('Calculated Flow(lit/min)= ', d)"
   ]
  },
  {
   "cell_type": "code",
   "execution_count": 3,
   "id": "5a99b647",
   "metadata": {},
   "outputs": [],
   "source": [
    "import numpy as np\n",
    "X_Testing= np.array([[a, b, c, d]])"
   ]
  },
  {
   "cell_type": "code",
   "execution_count": 4,
   "id": "09b03d69",
   "metadata": {},
   "outputs": [
    {
     "data": {
      "text/plain": [
       "(1, 1)"
      ]
     },
     "execution_count": 4,
     "metadata": {},
     "output_type": "execute_result"
    }
   ],
   "source": [
    "y_predict= model.predict(X_Testing)\n",
    "y_predict.shape"
   ]
  },
  {
   "cell_type": "code",
   "execution_count": 5,
   "id": "4517fca7",
   "metadata": {},
   "outputs": [
    {
     "data": {
      "text/plain": [
       "array([[18.774694]], dtype=float32)"
      ]
     },
     "execution_count": 5,
     "metadata": {},
     "output_type": "execute_result"
    }
   ],
   "source": [
    "y_predict"
   ]
  },
  {
   "cell_type": "code",
   "execution_count": 6,
   "id": "45c69141",
   "metadata": {},
   "outputs": [
    {
     "name": "stdout",
     "output_type": "stream",
     "text": [
      "Required RPM=  [1877.4695]\n"
     ]
    }
   ],
   "source": [
    "print('Required RPM= ', y_predict[:,0]*100)"
   ]
  },
  {
   "cell_type": "code",
   "execution_count": null,
   "id": "11a6e12f",
   "metadata": {},
   "outputs": [],
   "source": []
  }
 ],
 "metadata": {
  "kernelspec": {
   "display_name": "Python 3 (ipykernel)",
   "language": "python",
   "name": "python3"
  },
  "language_info": {
   "codemirror_mode": {
    "name": "ipython",
    "version": 3
   },
   "file_extension": ".py",
   "mimetype": "text/x-python",
   "name": "python",
   "nbconvert_exporter": "python",
   "pygments_lexer": "ipython3",
   "version": "3.9.7"
  }
 },
 "nbformat": 4,
 "nbformat_minor": 5
}
