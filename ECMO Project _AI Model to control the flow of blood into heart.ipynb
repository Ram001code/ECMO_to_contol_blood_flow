{
 "cells": [
  {
   "cell_type": "code",
   "execution_count": 1,
   "id": "506bf5a3",
   "metadata": {},
   "outputs": [],
   "source": [
    "#!pip install pandas"
   ]
  },
  {
   "cell_type": "code",
   "execution_count": 2,
   "id": "8d15ea18",
   "metadata": {},
   "outputs": [],
   "source": [
    "#!pip install matplotlib"
   ]
  },
  {
   "cell_type": "code",
   "execution_count": 3,
   "id": "58e23ca0",
   "metadata": {},
   "outputs": [],
   "source": [
    "#!pip install seaborn"
   ]
  },
  {
   "cell_type": "code",
   "execution_count": null,
   "id": "ae15ba62",
   "metadata": {},
   "outputs": [],
   "source": []
  },
  {
   "cell_type": "code",
   "execution_count": 2,
   "id": "8ecb6960",
   "metadata": {},
   "outputs": [],
   "source": [
    "#Importing libraries \n",
    "import pandas as pd\n",
    "import numpy as np\n",
    "import matplotlib.pyplot as plt\n",
    "import seaborn as sns"
   ]
  },
  {
   "cell_type": "code",
   "execution_count": 3,
   "id": "2e1a9b95",
   "metadata": {},
   "outputs": [],
   "source": [
    "#!pip install openpyxl"
   ]
  },
  {
   "cell_type": "code",
   "execution_count": 4,
   "id": "ba00febc",
   "metadata": {},
   "outputs": [],
   "source": [
    "#importing datasets \n",
    "\n",
    "data= pd.read_excel(r\"D:\\Albot\\ECMO\\code\\ECMO PATIENT DATA_AIML.xlsx\")"
   ]
  },
  {
   "cell_type": "code",
   "execution_count": 5,
   "id": "cd4e59c3",
   "metadata": {},
   "outputs": [
    {
     "data": {
      "text/html": [
       "<div>\n",
       "<style scoped>\n",
       "    .dataframe tbody tr th:only-of-type {\n",
       "        vertical-align: middle;\n",
       "    }\n",
       "\n",
       "    .dataframe tbody tr th {\n",
       "        vertical-align: top;\n",
       "    }\n",
       "\n",
       "    .dataframe thead th {\n",
       "        text-align: right;\n",
       "    }\n",
       "</style>\n",
       "<table border=\"1\" class=\"dataframe\">\n",
       "  <thead>\n",
       "    <tr style=\"text-align: right;\">\n",
       "      <th></th>\n",
       "      <th>Unnamed: 0</th>\n",
       "      <th>Unnamed: 1</th>\n",
       "      <th>ECMO-PATIENT DATA FOR AI_ML</th>\n",
       "      <th>Unnamed: 3</th>\n",
       "      <th>Unnamed: 4</th>\n",
       "      <th>Unnamed: 5</th>\n",
       "      <th>Unnamed: 6</th>\n",
       "    </tr>\n",
       "  </thead>\n",
       "  <tbody>\n",
       "    <tr>\n",
       "      <th>0</th>\n",
       "      <td>Age</td>\n",
       "      <td>Gender(M/F)</td>\n",
       "      <td>Height(cm)</td>\n",
       "      <td>Weight(Kg)</td>\n",
       "      <td>BSA( m2)</td>\n",
       "      <td>Calculated Flow( Litre/min)</td>\n",
       "      <td>AVG RPM</td>\n",
       "    </tr>\n",
       "    <tr>\n",
       "      <th>1</th>\n",
       "      <td>45</td>\n",
       "      <td>M</td>\n",
       "      <td>175</td>\n",
       "      <td>72</td>\n",
       "      <td>1.87</td>\n",
       "      <td>4.49</td>\n",
       "      <td>3200</td>\n",
       "    </tr>\n",
       "    <tr>\n",
       "      <th>2</th>\n",
       "      <td>55</td>\n",
       "      <td>M</td>\n",
       "      <td>172</td>\n",
       "      <td>69</td>\n",
       "      <td>1.82</td>\n",
       "      <td>4.37</td>\n",
       "      <td>2900</td>\n",
       "    </tr>\n",
       "    <tr>\n",
       "      <th>3</th>\n",
       "      <td>53</td>\n",
       "      <td>F</td>\n",
       "      <td>155</td>\n",
       "      <td>54</td>\n",
       "      <td>1.52</td>\n",
       "      <td>3.65</td>\n",
       "      <td>2750</td>\n",
       "    </tr>\n",
       "    <tr>\n",
       "      <th>4</th>\n",
       "      <td>33</td>\n",
       "      <td>F</td>\n",
       "      <td>153</td>\n",
       "      <td>55</td>\n",
       "      <td>1.53</td>\n",
       "      <td>3.67</td>\n",
       "      <td>3120</td>\n",
       "    </tr>\n",
       "    <tr>\n",
       "      <th>...</th>\n",
       "      <td>...</td>\n",
       "      <td>...</td>\n",
       "      <td>...</td>\n",
       "      <td>...</td>\n",
       "      <td>...</td>\n",
       "      <td>...</td>\n",
       "      <td>...</td>\n",
       "    </tr>\n",
       "    <tr>\n",
       "      <th>105</th>\n",
       "      <td>44</td>\n",
       "      <td>F</td>\n",
       "      <td>153</td>\n",
       "      <td>56</td>\n",
       "      <td>1.54</td>\n",
       "      <td>3.7</td>\n",
       "      <td>3270</td>\n",
       "    </tr>\n",
       "    <tr>\n",
       "      <th>106</th>\n",
       "      <td>38</td>\n",
       "      <td>M</td>\n",
       "      <td>179</td>\n",
       "      <td>87</td>\n",
       "      <td>2.08</td>\n",
       "      <td>4.99</td>\n",
       "      <td>3300</td>\n",
       "    </tr>\n",
       "    <tr>\n",
       "      <th>107</th>\n",
       "      <td>37</td>\n",
       "      <td>M</td>\n",
       "      <td>182</td>\n",
       "      <td>72</td>\n",
       "      <td>1.91</td>\n",
       "      <td>4.58</td>\n",
       "      <td>3150</td>\n",
       "    </tr>\n",
       "    <tr>\n",
       "      <th>108</th>\n",
       "      <td>39</td>\n",
       "      <td>F</td>\n",
       "      <td>157</td>\n",
       "      <td>58</td>\n",
       "      <td>1.59</td>\n",
       "      <td>3.82</td>\n",
       "      <td>3200</td>\n",
       "    </tr>\n",
       "    <tr>\n",
       "      <th>109</th>\n",
       "      <td>41</td>\n",
       "      <td>F</td>\n",
       "      <td>159</td>\n",
       "      <td>62</td>\n",
       "      <td>1.65</td>\n",
       "      <td>3.96</td>\n",
       "      <td>3280</td>\n",
       "    </tr>\n",
       "  </tbody>\n",
       "</table>\n",
       "<p>110 rows × 7 columns</p>\n",
       "</div>"
      ],
      "text/plain": [
       "    Unnamed: 0   Unnamed: 1 ECMO-PATIENT DATA FOR AI_ML   Unnamed: 3  \\\n",
       "0          Age  Gender(M/F)                   Height(cm)  Weight(Kg)   \n",
       "1           45            M                          175          72   \n",
       "2           55            M                          172          69   \n",
       "3           53            F                          155          54   \n",
       "4           33            F                          153          55   \n",
       "..         ...          ...                          ...         ...   \n",
       "105         44            F                          153          56   \n",
       "106         38            M                          179          87   \n",
       "107         37            M                          182          72   \n",
       "108         39            F                          157          58   \n",
       "109         41            F                          159          62   \n",
       "\n",
       "    Unnamed: 4                   Unnamed: 5 Unnamed: 6  \n",
       "0     BSA( m2)  Calculated Flow( Litre/min)    AVG RPM  \n",
       "1         1.87                         4.49       3200  \n",
       "2         1.82                         4.37       2900  \n",
       "3         1.52                         3.65       2750  \n",
       "4         1.53                         3.67       3120  \n",
       "..         ...                          ...        ...  \n",
       "105       1.54                          3.7       3270  \n",
       "106       2.08                         4.99       3300  \n",
       "107       1.91                         4.58       3150  \n",
       "108       1.59                         3.82       3200  \n",
       "109       1.65                         3.96       3280  \n",
       "\n",
       "[110 rows x 7 columns]"
      ]
     },
     "execution_count": 5,
     "metadata": {},
     "output_type": "execute_result"
    }
   ],
   "source": [
    "data"
   ]
  },
  {
   "cell_type": "code",
   "execution_count": 6,
   "id": "3db4d83c",
   "metadata": {},
   "outputs": [
    {
     "name": "stdout",
     "output_type": "stream",
     "text": [
      "    Unnamed: 0   Unnamed: 1 ECMO-PATIENT DATA FOR AI_ML   Unnamed: 3  \\\n",
      "0          Age  Gender(M/F)                   Height(cm)  Weight(Kg)   \n",
      "1           45            M                          175          72   \n",
      "2           55            M                          172          69   \n",
      "3           53            F                          155          54   \n",
      "4           33            F                          153          55   \n",
      "..         ...          ...                          ...         ...   \n",
      "105         44            F                          153          56   \n",
      "106         38            M                          179          87   \n",
      "107         37            M                          182          72   \n",
      "108         39            F                          157          58   \n",
      "109         41            F                          159          62   \n",
      "\n",
      "    Unnamed: 4                   Unnamed: 5 Unnamed: 6  \n",
      "0     BSA( m2)  Calculated Flow( Litre/min)    AVG RPM  \n",
      "1         1.87                         4.49       3200  \n",
      "2         1.82                         4.37       2900  \n",
      "3         1.52                         3.65       2750  \n",
      "4         1.53                         3.67       3120  \n",
      "..         ...                          ...        ...  \n",
      "105       1.54                          3.7       3270  \n",
      "106       2.08                         4.99       3300  \n",
      "107       1.91                         4.58       3150  \n",
      "108       1.59                         3.82       3200  \n",
      "109       1.65                         3.96       3280  \n",
      "\n",
      "[110 rows x 7 columns]\n"
     ]
    }
   ],
   "source": [
    "print(data)"
   ]
  },
  {
   "cell_type": "code",
   "execution_count": 7,
   "id": "59878b82",
   "metadata": {},
   "outputs": [
    {
     "data": {
      "text/html": [
       "<div>\n",
       "<style scoped>\n",
       "    .dataframe tbody tr th:only-of-type {\n",
       "        vertical-align: middle;\n",
       "    }\n",
       "\n",
       "    .dataframe tbody tr th {\n",
       "        vertical-align: top;\n",
       "    }\n",
       "\n",
       "    .dataframe thead th {\n",
       "        text-align: right;\n",
       "    }\n",
       "</style>\n",
       "<table border=\"1\" class=\"dataframe\">\n",
       "  <thead>\n",
       "    <tr style=\"text-align: right;\">\n",
       "      <th></th>\n",
       "      <th>Unnamed: 0</th>\n",
       "      <th>Unnamed: 1</th>\n",
       "      <th>ECMO-PATIENT DATA FOR AI_ML</th>\n",
       "      <th>Unnamed: 3</th>\n",
       "      <th>Unnamed: 4</th>\n",
       "      <th>Unnamed: 5</th>\n",
       "      <th>Unnamed: 6</th>\n",
       "    </tr>\n",
       "  </thead>\n",
       "  <tbody>\n",
       "    <tr>\n",
       "      <th>0</th>\n",
       "      <td>Age</td>\n",
       "      <td>Gender(M/F)</td>\n",
       "      <td>Height(cm)</td>\n",
       "      <td>Weight(Kg)</td>\n",
       "      <td>BSA( m2)</td>\n",
       "      <td>Calculated Flow( Litre/min)</td>\n",
       "      <td>AVG RPM</td>\n",
       "    </tr>\n",
       "    <tr>\n",
       "      <th>1</th>\n",
       "      <td>45</td>\n",
       "      <td>M</td>\n",
       "      <td>175</td>\n",
       "      <td>72</td>\n",
       "      <td>1.87</td>\n",
       "      <td>4.49</td>\n",
       "      <td>3200</td>\n",
       "    </tr>\n",
       "    <tr>\n",
       "      <th>2</th>\n",
       "      <td>55</td>\n",
       "      <td>M</td>\n",
       "      <td>172</td>\n",
       "      <td>69</td>\n",
       "      <td>1.82</td>\n",
       "      <td>4.37</td>\n",
       "      <td>2900</td>\n",
       "    </tr>\n",
       "    <tr>\n",
       "      <th>3</th>\n",
       "      <td>53</td>\n",
       "      <td>F</td>\n",
       "      <td>155</td>\n",
       "      <td>54</td>\n",
       "      <td>1.52</td>\n",
       "      <td>3.65</td>\n",
       "      <td>2750</td>\n",
       "    </tr>\n",
       "    <tr>\n",
       "      <th>4</th>\n",
       "      <td>33</td>\n",
       "      <td>F</td>\n",
       "      <td>153</td>\n",
       "      <td>55</td>\n",
       "      <td>1.53</td>\n",
       "      <td>3.67</td>\n",
       "      <td>3120</td>\n",
       "    </tr>\n",
       "  </tbody>\n",
       "</table>\n",
       "</div>"
      ],
      "text/plain": [
       "  Unnamed: 0   Unnamed: 1 ECMO-PATIENT DATA FOR AI_ML   Unnamed: 3 Unnamed: 4  \\\n",
       "0        Age  Gender(M/F)                   Height(cm)  Weight(Kg)   BSA( m2)   \n",
       "1         45            M                          175          72       1.87   \n",
       "2         55            M                          172          69       1.82   \n",
       "3         53            F                          155          54       1.52   \n",
       "4         33            F                          153          55       1.53   \n",
       "\n",
       "                    Unnamed: 5 Unnamed: 6  \n",
       "0  Calculated Flow( Litre/min)    AVG RPM  \n",
       "1                         4.49       3200  \n",
       "2                         4.37       2900  \n",
       "3                         3.65       2750  \n",
       "4                         3.67       3120  "
      ]
     },
     "execution_count": 7,
     "metadata": {},
     "output_type": "execute_result"
    }
   ],
   "source": [
    "data.head(5)  #CHecking above 5 rows"
   ]
  },
  {
   "cell_type": "code",
   "execution_count": 8,
   "id": "023f4912",
   "metadata": {},
   "outputs": [
    {
     "data": {
      "text/html": [
       "<div>\n",
       "<style scoped>\n",
       "    .dataframe tbody tr th:only-of-type {\n",
       "        vertical-align: middle;\n",
       "    }\n",
       "\n",
       "    .dataframe tbody tr th {\n",
       "        vertical-align: top;\n",
       "    }\n",
       "\n",
       "    .dataframe thead th {\n",
       "        text-align: right;\n",
       "    }\n",
       "</style>\n",
       "<table border=\"1\" class=\"dataframe\">\n",
       "  <thead>\n",
       "    <tr style=\"text-align: right;\">\n",
       "      <th></th>\n",
       "      <th>Unnamed: 0</th>\n",
       "      <th>Unnamed: 1</th>\n",
       "      <th>ECMO-PATIENT DATA FOR AI_ML</th>\n",
       "      <th>Unnamed: 3</th>\n",
       "      <th>Unnamed: 4</th>\n",
       "      <th>Unnamed: 5</th>\n",
       "      <th>Unnamed: 6</th>\n",
       "    </tr>\n",
       "  </thead>\n",
       "  <tbody>\n",
       "    <tr>\n",
       "      <th>105</th>\n",
       "      <td>44</td>\n",
       "      <td>F</td>\n",
       "      <td>153</td>\n",
       "      <td>56</td>\n",
       "      <td>1.54</td>\n",
       "      <td>3.7</td>\n",
       "      <td>3270</td>\n",
       "    </tr>\n",
       "    <tr>\n",
       "      <th>106</th>\n",
       "      <td>38</td>\n",
       "      <td>M</td>\n",
       "      <td>179</td>\n",
       "      <td>87</td>\n",
       "      <td>2.08</td>\n",
       "      <td>4.99</td>\n",
       "      <td>3300</td>\n",
       "    </tr>\n",
       "    <tr>\n",
       "      <th>107</th>\n",
       "      <td>37</td>\n",
       "      <td>M</td>\n",
       "      <td>182</td>\n",
       "      <td>72</td>\n",
       "      <td>1.91</td>\n",
       "      <td>4.58</td>\n",
       "      <td>3150</td>\n",
       "    </tr>\n",
       "    <tr>\n",
       "      <th>108</th>\n",
       "      <td>39</td>\n",
       "      <td>F</td>\n",
       "      <td>157</td>\n",
       "      <td>58</td>\n",
       "      <td>1.59</td>\n",
       "      <td>3.82</td>\n",
       "      <td>3200</td>\n",
       "    </tr>\n",
       "    <tr>\n",
       "      <th>109</th>\n",
       "      <td>41</td>\n",
       "      <td>F</td>\n",
       "      <td>159</td>\n",
       "      <td>62</td>\n",
       "      <td>1.65</td>\n",
       "      <td>3.96</td>\n",
       "      <td>3280</td>\n",
       "    </tr>\n",
       "  </tbody>\n",
       "</table>\n",
       "</div>"
      ],
      "text/plain": [
       "    Unnamed: 0 Unnamed: 1 ECMO-PATIENT DATA FOR AI_ML  Unnamed: 3 Unnamed: 4  \\\n",
       "105         44          F                          153         56       1.54   \n",
       "106         38          M                          179         87       2.08   \n",
       "107         37          M                          182         72       1.91   \n",
       "108         39          F                          157         58       1.59   \n",
       "109         41          F                          159         62       1.65   \n",
       "\n",
       "    Unnamed: 5 Unnamed: 6  \n",
       "105        3.7       3270  \n",
       "106       4.99       3300  \n",
       "107       4.58       3150  \n",
       "108       3.82       3200  \n",
       "109       3.96       3280  "
      ]
     },
     "execution_count": 8,
     "metadata": {},
     "output_type": "execute_result"
    }
   ],
   "source": [
    "data.tail(5)  #CHecking last 5 rows"
   ]
  },
  {
   "cell_type": "markdown",
   "id": "8d8188fe",
   "metadata": {},
   "source": []
  },
  {
   "cell_type": "code",
   "execution_count": 9,
   "id": "ecd380be",
   "metadata": {},
   "outputs": [],
   "source": [
    "#sns.pairplot(data)"
   ]
  },
  {
   "cell_type": "markdown",
   "id": "4611e526",
   "metadata": {},
   "source": [
    "# Data Preprocessing "
   ]
  },
  {
   "cell_type": "code",
   "execution_count": 10,
   "id": "d35ac817",
   "metadata": {},
   "outputs": [],
   "source": [
    "#Data Cleaning\n",
    "\n",
    "data_df= data.drop([0], axis=0)"
   ]
  },
  {
   "cell_type": "code",
   "execution_count": 11,
   "id": "2a2366b2",
   "metadata": {},
   "outputs": [
    {
     "data": {
      "text/html": [
       "<div>\n",
       "<style scoped>\n",
       "    .dataframe tbody tr th:only-of-type {\n",
       "        vertical-align: middle;\n",
       "    }\n",
       "\n",
       "    .dataframe tbody tr th {\n",
       "        vertical-align: top;\n",
       "    }\n",
       "\n",
       "    .dataframe thead th {\n",
       "        text-align: right;\n",
       "    }\n",
       "</style>\n",
       "<table border=\"1\" class=\"dataframe\">\n",
       "  <thead>\n",
       "    <tr style=\"text-align: right;\">\n",
       "      <th></th>\n",
       "      <th>Unnamed: 0</th>\n",
       "      <th>Unnamed: 1</th>\n",
       "      <th>ECMO-PATIENT DATA FOR AI_ML</th>\n",
       "      <th>Unnamed: 3</th>\n",
       "      <th>Unnamed: 4</th>\n",
       "      <th>Unnamed: 5</th>\n",
       "      <th>Unnamed: 6</th>\n",
       "    </tr>\n",
       "  </thead>\n",
       "  <tbody>\n",
       "    <tr>\n",
       "      <th>1</th>\n",
       "      <td>45</td>\n",
       "      <td>M</td>\n",
       "      <td>175</td>\n",
       "      <td>72</td>\n",
       "      <td>1.87</td>\n",
       "      <td>4.49</td>\n",
       "      <td>3200</td>\n",
       "    </tr>\n",
       "    <tr>\n",
       "      <th>2</th>\n",
       "      <td>55</td>\n",
       "      <td>M</td>\n",
       "      <td>172</td>\n",
       "      <td>69</td>\n",
       "      <td>1.82</td>\n",
       "      <td>4.37</td>\n",
       "      <td>2900</td>\n",
       "    </tr>\n",
       "    <tr>\n",
       "      <th>3</th>\n",
       "      <td>53</td>\n",
       "      <td>F</td>\n",
       "      <td>155</td>\n",
       "      <td>54</td>\n",
       "      <td>1.52</td>\n",
       "      <td>3.65</td>\n",
       "      <td>2750</td>\n",
       "    </tr>\n",
       "    <tr>\n",
       "      <th>4</th>\n",
       "      <td>33</td>\n",
       "      <td>F</td>\n",
       "      <td>153</td>\n",
       "      <td>55</td>\n",
       "      <td>1.53</td>\n",
       "      <td>3.67</td>\n",
       "      <td>3120</td>\n",
       "    </tr>\n",
       "    <tr>\n",
       "      <th>5</th>\n",
       "      <td>32</td>\n",
       "      <td>M</td>\n",
       "      <td>165</td>\n",
       "      <td>69</td>\n",
       "      <td>1.78</td>\n",
       "      <td>4.27</td>\n",
       "      <td>3230</td>\n",
       "    </tr>\n",
       "  </tbody>\n",
       "</table>\n",
       "</div>"
      ],
      "text/plain": [
       "  Unnamed: 0 Unnamed: 1 ECMO-PATIENT DATA FOR AI_ML  Unnamed: 3 Unnamed: 4  \\\n",
       "1         45          M                          175         72       1.87   \n",
       "2         55          M                          172         69       1.82   \n",
       "3         53          F                          155         54       1.52   \n",
       "4         33          F                          153         55       1.53   \n",
       "5         32          M                          165         69       1.78   \n",
       "\n",
       "  Unnamed: 5 Unnamed: 6  \n",
       "1       4.49       3200  \n",
       "2       4.37       2900  \n",
       "3       3.65       2750  \n",
       "4       3.67       3120  \n",
       "5       4.27       3230  "
      ]
     },
     "execution_count": 11,
     "metadata": {},
     "output_type": "execute_result"
    }
   ],
   "source": [
    "data_df.head()"
   ]
  },
  {
   "cell_type": "code",
   "execution_count": 12,
   "id": "5b3f0b75",
   "metadata": {},
   "outputs": [
    {
     "data": {
      "text/plain": [
       "Index(['Unnamed: 0', 'Unnamed: 1', 'ECMO-PATIENT DATA FOR AI_ML ',\n",
       "       'Unnamed: 3', 'Unnamed: 4', 'Unnamed: 5', 'Unnamed: 6'],\n",
       "      dtype='object')"
      ]
     },
     "execution_count": 12,
     "metadata": {},
     "output_type": "execute_result"
    }
   ],
   "source": [
    "#Checking columns name\n",
    "data_df.columns"
   ]
  },
  {
   "cell_type": "code",
   "execution_count": 13,
   "id": "40b025cb",
   "metadata": {},
   "outputs": [
    {
     "data": {
      "text/html": [
       "<div>\n",
       "<style scoped>\n",
       "    .dataframe tbody tr th:only-of-type {\n",
       "        vertical-align: middle;\n",
       "    }\n",
       "\n",
       "    .dataframe tbody tr th {\n",
       "        vertical-align: top;\n",
       "    }\n",
       "\n",
       "    .dataframe thead th {\n",
       "        text-align: right;\n",
       "    }\n",
       "</style>\n",
       "<table border=\"1\" class=\"dataframe\">\n",
       "  <thead>\n",
       "    <tr style=\"text-align: right;\">\n",
       "      <th></th>\n",
       "      <th>Age</th>\n",
       "      <th>Gender</th>\n",
       "      <th>Height(cm)</th>\n",
       "      <th>Unnamed: 3</th>\n",
       "      <th>Unnamed: 4</th>\n",
       "      <th>Unnamed: 5</th>\n",
       "      <th>Unnamed: 6</th>\n",
       "    </tr>\n",
       "  </thead>\n",
       "  <tbody>\n",
       "    <tr>\n",
       "      <th>1</th>\n",
       "      <td>45</td>\n",
       "      <td>M</td>\n",
       "      <td>175</td>\n",
       "      <td>72</td>\n",
       "      <td>1.87</td>\n",
       "      <td>4.49</td>\n",
       "      <td>3200</td>\n",
       "    </tr>\n",
       "    <tr>\n",
       "      <th>2</th>\n",
       "      <td>55</td>\n",
       "      <td>M</td>\n",
       "      <td>172</td>\n",
       "      <td>69</td>\n",
       "      <td>1.82</td>\n",
       "      <td>4.37</td>\n",
       "      <td>2900</td>\n",
       "    </tr>\n",
       "    <tr>\n",
       "      <th>3</th>\n",
       "      <td>53</td>\n",
       "      <td>F</td>\n",
       "      <td>155</td>\n",
       "      <td>54</td>\n",
       "      <td>1.52</td>\n",
       "      <td>3.65</td>\n",
       "      <td>2750</td>\n",
       "    </tr>\n",
       "    <tr>\n",
       "      <th>4</th>\n",
       "      <td>33</td>\n",
       "      <td>F</td>\n",
       "      <td>153</td>\n",
       "      <td>55</td>\n",
       "      <td>1.53</td>\n",
       "      <td>3.67</td>\n",
       "      <td>3120</td>\n",
       "    </tr>\n",
       "    <tr>\n",
       "      <th>5</th>\n",
       "      <td>32</td>\n",
       "      <td>M</td>\n",
       "      <td>165</td>\n",
       "      <td>69</td>\n",
       "      <td>1.78</td>\n",
       "      <td>4.27</td>\n",
       "      <td>3230</td>\n",
       "    </tr>\n",
       "    <tr>\n",
       "      <th>...</th>\n",
       "      <td>...</td>\n",
       "      <td>...</td>\n",
       "      <td>...</td>\n",
       "      <td>...</td>\n",
       "      <td>...</td>\n",
       "      <td>...</td>\n",
       "      <td>...</td>\n",
       "    </tr>\n",
       "    <tr>\n",
       "      <th>105</th>\n",
       "      <td>44</td>\n",
       "      <td>F</td>\n",
       "      <td>153</td>\n",
       "      <td>56</td>\n",
       "      <td>1.54</td>\n",
       "      <td>3.7</td>\n",
       "      <td>3270</td>\n",
       "    </tr>\n",
       "    <tr>\n",
       "      <th>106</th>\n",
       "      <td>38</td>\n",
       "      <td>M</td>\n",
       "      <td>179</td>\n",
       "      <td>87</td>\n",
       "      <td>2.08</td>\n",
       "      <td>4.99</td>\n",
       "      <td>3300</td>\n",
       "    </tr>\n",
       "    <tr>\n",
       "      <th>107</th>\n",
       "      <td>37</td>\n",
       "      <td>M</td>\n",
       "      <td>182</td>\n",
       "      <td>72</td>\n",
       "      <td>1.91</td>\n",
       "      <td>4.58</td>\n",
       "      <td>3150</td>\n",
       "    </tr>\n",
       "    <tr>\n",
       "      <th>108</th>\n",
       "      <td>39</td>\n",
       "      <td>F</td>\n",
       "      <td>157</td>\n",
       "      <td>58</td>\n",
       "      <td>1.59</td>\n",
       "      <td>3.82</td>\n",
       "      <td>3200</td>\n",
       "    </tr>\n",
       "    <tr>\n",
       "      <th>109</th>\n",
       "      <td>41</td>\n",
       "      <td>F</td>\n",
       "      <td>159</td>\n",
       "      <td>62</td>\n",
       "      <td>1.65</td>\n",
       "      <td>3.96</td>\n",
       "      <td>3280</td>\n",
       "    </tr>\n",
       "  </tbody>\n",
       "</table>\n",
       "<p>109 rows × 7 columns</p>\n",
       "</div>"
      ],
      "text/plain": [
       "    Age Gender Height(cm) Unnamed: 3 Unnamed: 4 Unnamed: 5 Unnamed: 6\n",
       "1    45      M        175         72       1.87       4.49       3200\n",
       "2    55      M        172         69       1.82       4.37       2900\n",
       "3    53      F        155         54       1.52       3.65       2750\n",
       "4    33      F        153         55       1.53       3.67       3120\n",
       "5    32      M        165         69       1.78       4.27       3230\n",
       "..   ..    ...        ...        ...        ...        ...        ...\n",
       "105  44      F        153         56       1.54        3.7       3270\n",
       "106  38      M        179         87       2.08       4.99       3300\n",
       "107  37      M        182         72       1.91       4.58       3150\n",
       "108  39      F        157         58       1.59       3.82       3200\n",
       "109  41      F        159         62       1.65       3.96       3280\n",
       "\n",
       "[109 rows x 7 columns]"
      ]
     },
     "execution_count": 13,
     "metadata": {},
     "output_type": "execute_result"
    }
   ],
   "source": [
    "#Renaming columns \n",
    "data_df1= data_df.rename({\"Unnamed: 0\": \"Age\", \"Unnamed: 1\":\"Gender\",\"ECMO-PATIENT DATA FOR AI_ML \": \"Height(cm)\" }, axis='columns')\n",
    "data_df1"
   ]
  },
  {
   "cell_type": "code",
   "execution_count": 14,
   "id": "736a9fee",
   "metadata": {},
   "outputs": [],
   "source": [
    "#sns.pairplot(data)"
   ]
  },
  {
   "cell_type": "code",
   "execution_count": 15,
   "id": "64d50f03",
   "metadata": {},
   "outputs": [],
   "source": [
    "#Renaming columns\n",
    "data_df2= data_df1.rename({'Unnamed: 3':'Weight(Kg)', 'Unnamed: 4':'BSA(m2)', 'Unnamed: 5':'Calculated Flow(Lit/min)', 'Unnamed: 6':'AVG RPM'}, axis='columns')"
   ]
  },
  {
   "cell_type": "code",
   "execution_count": 16,
   "id": "f08aadc3",
   "metadata": {},
   "outputs": [
    {
     "data": {
      "text/html": [
       "<div>\n",
       "<style scoped>\n",
       "    .dataframe tbody tr th:only-of-type {\n",
       "        vertical-align: middle;\n",
       "    }\n",
       "\n",
       "    .dataframe tbody tr th {\n",
       "        vertical-align: top;\n",
       "    }\n",
       "\n",
       "    .dataframe thead th {\n",
       "        text-align: right;\n",
       "    }\n",
       "</style>\n",
       "<table border=\"1\" class=\"dataframe\">\n",
       "  <thead>\n",
       "    <tr style=\"text-align: right;\">\n",
       "      <th></th>\n",
       "      <th>Age</th>\n",
       "      <th>Gender</th>\n",
       "      <th>Height(cm)</th>\n",
       "      <th>Weight(Kg)</th>\n",
       "      <th>BSA(m2)</th>\n",
       "      <th>Calculated Flow(Lit/min)</th>\n",
       "      <th>AVG RPM</th>\n",
       "    </tr>\n",
       "  </thead>\n",
       "  <tbody>\n",
       "    <tr>\n",
       "      <th>1</th>\n",
       "      <td>45</td>\n",
       "      <td>M</td>\n",
       "      <td>175</td>\n",
       "      <td>72</td>\n",
       "      <td>1.87</td>\n",
       "      <td>4.49</td>\n",
       "      <td>3200</td>\n",
       "    </tr>\n",
       "    <tr>\n",
       "      <th>2</th>\n",
       "      <td>55</td>\n",
       "      <td>M</td>\n",
       "      <td>172</td>\n",
       "      <td>69</td>\n",
       "      <td>1.82</td>\n",
       "      <td>4.37</td>\n",
       "      <td>2900</td>\n",
       "    </tr>\n",
       "    <tr>\n",
       "      <th>3</th>\n",
       "      <td>53</td>\n",
       "      <td>F</td>\n",
       "      <td>155</td>\n",
       "      <td>54</td>\n",
       "      <td>1.52</td>\n",
       "      <td>3.65</td>\n",
       "      <td>2750</td>\n",
       "    </tr>\n",
       "    <tr>\n",
       "      <th>4</th>\n",
       "      <td>33</td>\n",
       "      <td>F</td>\n",
       "      <td>153</td>\n",
       "      <td>55</td>\n",
       "      <td>1.53</td>\n",
       "      <td>3.67</td>\n",
       "      <td>3120</td>\n",
       "    </tr>\n",
       "    <tr>\n",
       "      <th>5</th>\n",
       "      <td>32</td>\n",
       "      <td>M</td>\n",
       "      <td>165</td>\n",
       "      <td>69</td>\n",
       "      <td>1.78</td>\n",
       "      <td>4.27</td>\n",
       "      <td>3230</td>\n",
       "    </tr>\n",
       "    <tr>\n",
       "      <th>...</th>\n",
       "      <td>...</td>\n",
       "      <td>...</td>\n",
       "      <td>...</td>\n",
       "      <td>...</td>\n",
       "      <td>...</td>\n",
       "      <td>...</td>\n",
       "      <td>...</td>\n",
       "    </tr>\n",
       "    <tr>\n",
       "      <th>105</th>\n",
       "      <td>44</td>\n",
       "      <td>F</td>\n",
       "      <td>153</td>\n",
       "      <td>56</td>\n",
       "      <td>1.54</td>\n",
       "      <td>3.7</td>\n",
       "      <td>3270</td>\n",
       "    </tr>\n",
       "    <tr>\n",
       "      <th>106</th>\n",
       "      <td>38</td>\n",
       "      <td>M</td>\n",
       "      <td>179</td>\n",
       "      <td>87</td>\n",
       "      <td>2.08</td>\n",
       "      <td>4.99</td>\n",
       "      <td>3300</td>\n",
       "    </tr>\n",
       "    <tr>\n",
       "      <th>107</th>\n",
       "      <td>37</td>\n",
       "      <td>M</td>\n",
       "      <td>182</td>\n",
       "      <td>72</td>\n",
       "      <td>1.91</td>\n",
       "      <td>4.58</td>\n",
       "      <td>3150</td>\n",
       "    </tr>\n",
       "    <tr>\n",
       "      <th>108</th>\n",
       "      <td>39</td>\n",
       "      <td>F</td>\n",
       "      <td>157</td>\n",
       "      <td>58</td>\n",
       "      <td>1.59</td>\n",
       "      <td>3.82</td>\n",
       "      <td>3200</td>\n",
       "    </tr>\n",
       "    <tr>\n",
       "      <th>109</th>\n",
       "      <td>41</td>\n",
       "      <td>F</td>\n",
       "      <td>159</td>\n",
       "      <td>62</td>\n",
       "      <td>1.65</td>\n",
       "      <td>3.96</td>\n",
       "      <td>3280</td>\n",
       "    </tr>\n",
       "  </tbody>\n",
       "</table>\n",
       "<p>109 rows × 7 columns</p>\n",
       "</div>"
      ],
      "text/plain": [
       "    Age Gender Height(cm) Weight(Kg) BSA(m2) Calculated Flow(Lit/min) AVG RPM\n",
       "1    45      M        175         72    1.87                     4.49    3200\n",
       "2    55      M        172         69    1.82                     4.37    2900\n",
       "3    53      F        155         54    1.52                     3.65    2750\n",
       "4    33      F        153         55    1.53                     3.67    3120\n",
       "5    32      M        165         69    1.78                     4.27    3230\n",
       "..   ..    ...        ...        ...     ...                      ...     ...\n",
       "105  44      F        153         56    1.54                      3.7    3270\n",
       "106  38      M        179         87    2.08                     4.99    3300\n",
       "107  37      M        182         72    1.91                     4.58    3150\n",
       "108  39      F        157         58    1.59                     3.82    3200\n",
       "109  41      F        159         62    1.65                     3.96    3280\n",
       "\n",
       "[109 rows x 7 columns]"
      ]
     },
     "execution_count": 16,
     "metadata": {},
     "output_type": "execute_result"
    }
   ],
   "source": [
    "#Checking the dataframe\n",
    "data_df2"
   ]
  },
  {
   "cell_type": "markdown",
   "id": "e076b667",
   "metadata": {},
   "source": [
    "# Data Visualization"
   ]
  },
  {
   "cell_type": "code",
   "execution_count": 19,
   "id": "4eb5cfd2",
   "metadata": {},
   "outputs": [
    {
     "data": {
      "text/plain": [
       "<seaborn.axisgrid.PairGrid at 0x2b4c05fea30>"
      ]
     },
     "execution_count": 19,
     "metadata": {},
     "output_type": "execute_result"
    },
    {
     "data": {
      "image/png": "[encoded data removed]",
      "text/plain": [
       "<Figure size 1080x1080 with 42 Axes>"
      ]
     },
     "metadata": {
      "needs_background": "light"
     },
     "output_type": "display_data"
    }
   ],
   "source": [
    "sns.pairplot(data_df2)"
   ]
  },
  {
   "cell_type": "code",
   "execution_count": 90,
   "id": "bd986dc2",
   "metadata": {},
   "outputs": [
    {
     "data": {
      "image/png": "[encoded data removed]",
      "text/plain": [
       "<Figure size 504x360 with 1 Axes>"
      ]
     },
     "metadata": {
      "needs_background": "light"
     },
     "output_type": "display_data"
    }
   ],
   "source": [
    "plt.figure(figsize=(7,5))\n",
    "plt.plot(data_df2['BSA(m2)'],data_df2['Calculated Flow(Lit/min)'])\n",
    "plt.xlabel('BSA')\n",
    "plt.ylabel('Calculated Flow')\n",
    "plt.show()"
   ]
  },
  {
   "cell_type": "code",
   "execution_count": 108,
   "id": "189989f5",
   "metadata": {},
   "outputs": [
    {
     "data": {
      "image/png": "[encoded data removed]",
      "text/plain": [
       "<Figure size 432x288 with 1 Axes>"
      ]
     },
     "metadata": {
      "needs_background": "light"
     },
     "output_type": "display_data"
    }
   ],
   "source": [
    "sns.distplot(data_df2['AVG RPM'], kde= False, hist_kws= {'alpha':1}, color='b');"
   ]
  },
  {
   "cell_type": "code",
   "execution_count": 33,
   "id": "51511dfb",
   "metadata": {},
   "outputs": [
    {
     "data": {
      "text/plain": [
       "<AxesSubplot:xlabel='Calculated Flow(Lit/min)', ylabel='AVG RPM'>"
      ]
     },
     "execution_count": 33,
     "metadata": {},
     "output_type": "execute_result"
    },
    {
     "data": {
      "image/png": "[encoded data removed]",
      "text/plain": [
       "<Figure size 432x288 with 1 Axes>"
      ]
     },
     "metadata": {
      "needs_background": "light"
     },
     "output_type": "display_data"
    }
   ],
   "source": [
    "data_df2.plot(kind= \"scatter\", x='Calculated Flow(Lit/min)', y= 'AVG RPM', c='blue')"
   ]
  },
  {
   "cell_type": "code",
   "execution_count": 32,
   "id": "c3848dce",
   "metadata": {},
   "outputs": [
    {
     "data": {
      "image/png": "[encoded data removed]",
      "text/plain": [
       "<Figure size 432x288 with 1 Axes>"
      ]
     },
     "metadata": {
      "needs_background": "light"
     },
     "output_type": "display_data"
    }
   ],
   "source": [
    "x= data_df2['AVG RPM']\n",
    "y= data_df2['Calculated Flow(Lit/min)']\n",
    "\n",
    "#colors = np.array([\"red\",\"green\"])\n",
    "plt.scatter(x,y)\n",
    "plt.show()"
   ]
  },
  {
   "cell_type": "code",
   "execution_count": 91,
   "id": "660f66fb",
   "metadata": {},
   "outputs": [],
   "source": [
    "#data_df2= data_df2.reset_index(inplace=True).drop(columns=['index'])"
   ]
  },
  {
   "cell_type": "code",
   "execution_count": 21,
   "id": "efad81d9",
   "metadata": {},
   "outputs": [],
   "source": [
    "#data_df2= data_df2.style.hide_index()    #Hidding index number \n",
    "#data_df2"
   ]
  },
  {
   "cell_type": "code",
   "execution_count": null,
   "id": "c7606b1c",
   "metadata": {},
   "outputs": [],
   "source": []
  },
  {
   "cell_type": "code",
   "execution_count": 22,
   "id": "717b2449",
   "metadata": {},
   "outputs": [],
   "source": [
    "data_df3 = data_df2   #Copying the data"
   ]
  },
  {
   "cell_type": "code",
   "execution_count": 23,
   "id": "7938aa1d",
   "metadata": {},
   "outputs": [],
   "source": [
    "data_df3= data_df3.drop(['Age', 'Gender'], axis=1)   #Dropping age and gender"
   ]
  },
  {
   "cell_type": "code",
   "execution_count": 24,
   "id": "1b75355a",
   "metadata": {},
   "outputs": [],
   "source": [
    "data_df4= data_df3.drop(['AVG RPM'], axis=1) \n"
   ]
  },
  {
   "cell_type": "code",
   "execution_count": 25,
   "id": "50a8f34f",
   "metadata": {},
   "outputs": [
    {
     "data": {
      "text/html": [
       "<div>\n",
       "<style scoped>\n",
       "    .dataframe tbody tr th:only-of-type {\n",
       "        vertical-align: middle;\n",
       "    }\n",
       "\n",
       "    .dataframe tbody tr th {\n",
       "        vertical-align: top;\n",
       "    }\n",
       "\n",
       "    .dataframe thead th {\n",
       "        text-align: right;\n",
       "    }\n",
       "</style>\n",
       "<table border=\"1\" class=\"dataframe\">\n",
       "  <thead>\n",
       "    <tr style=\"text-align: right;\">\n",
       "      <th></th>\n",
       "      <th>Height(cm)</th>\n",
       "      <th>Weight(Kg)</th>\n",
       "      <th>BSA(m2)</th>\n",
       "      <th>Calculated Flow(Lit/min)</th>\n",
       "    </tr>\n",
       "  </thead>\n",
       "  <tbody>\n",
       "    <tr>\n",
       "      <th>1</th>\n",
       "      <td>175</td>\n",
       "      <td>72</td>\n",
       "      <td>1.87</td>\n",
       "      <td>4.49</td>\n",
       "    </tr>\n",
       "    <tr>\n",
       "      <th>2</th>\n",
       "      <td>172</td>\n",
       "      <td>69</td>\n",
       "      <td>1.82</td>\n",
       "      <td>4.37</td>\n",
       "    </tr>\n",
       "    <tr>\n",
       "      <th>3</th>\n",
       "      <td>155</td>\n",
       "      <td>54</td>\n",
       "      <td>1.52</td>\n",
       "      <td>3.65</td>\n",
       "    </tr>\n",
       "    <tr>\n",
       "      <th>4</th>\n",
       "      <td>153</td>\n",
       "      <td>55</td>\n",
       "      <td>1.53</td>\n",
       "      <td>3.67</td>\n",
       "    </tr>\n",
       "    <tr>\n",
       "      <th>5</th>\n",
       "      <td>165</td>\n",
       "      <td>69</td>\n",
       "      <td>1.78</td>\n",
       "      <td>4.27</td>\n",
       "    </tr>\n",
       "    <tr>\n",
       "      <th>...</th>\n",
       "      <td>...</td>\n",
       "      <td>...</td>\n",
       "      <td>...</td>\n",
       "      <td>...</td>\n",
       "    </tr>\n",
       "    <tr>\n",
       "      <th>105</th>\n",
       "      <td>153</td>\n",
       "      <td>56</td>\n",
       "      <td>1.54</td>\n",
       "      <td>3.7</td>\n",
       "    </tr>\n",
       "    <tr>\n",
       "      <th>106</th>\n",
       "      <td>179</td>\n",
       "      <td>87</td>\n",
       "      <td>2.08</td>\n",
       "      <td>4.99</td>\n",
       "    </tr>\n",
       "    <tr>\n",
       "      <th>107</th>\n",
       "      <td>182</td>\n",
       "      <td>72</td>\n",
       "      <td>1.91</td>\n",
       "      <td>4.58</td>\n",
       "    </tr>\n",
       "    <tr>\n",
       "      <th>108</th>\n",
       "      <td>157</td>\n",
       "      <td>58</td>\n",
       "      <td>1.59</td>\n",
       "      <td>3.82</td>\n",
       "    </tr>\n",
       "    <tr>\n",
       "      <th>109</th>\n",
       "      <td>159</td>\n",
       "      <td>62</td>\n",
       "      <td>1.65</td>\n",
       "      <td>3.96</td>\n",
       "    </tr>\n",
       "  </tbody>\n",
       "</table>\n",
       "<p>109 rows × 4 columns</p>\n",
       "</div>"
      ],
      "text/plain": [
       "    Height(cm) Weight(Kg) BSA(m2) Calculated Flow(Lit/min)\n",
       "1          175         72    1.87                     4.49\n",
       "2          172         69    1.82                     4.37\n",
       "3          155         54    1.52                     3.65\n",
       "4          153         55    1.53                     3.67\n",
       "5          165         69    1.78                     4.27\n",
       "..         ...        ...     ...                      ...\n",
       "105        153         56    1.54                      3.7\n",
       "106        179         87    2.08                     4.99\n",
       "107        182         72    1.91                     4.58\n",
       "108        157         58    1.59                     3.82\n",
       "109        159         62    1.65                     3.96\n",
       "\n",
       "[109 rows x 4 columns]"
      ]
     },
     "execution_count": 25,
     "metadata": {},
     "output_type": "execute_result"
    }
   ],
   "source": [
    "data_df4"
   ]
  },
  {
   "cell_type": "markdown",
   "id": "559c1733",
   "metadata": {},
   "source": [
    "# Standardization of data "
   ]
  },
  {
   "cell_type": "code",
   "execution_count": 26,
   "id": "55aedcac",
   "metadata": {},
   "outputs": [],
   "source": [
    "#!pip install scikit-learn"
   ]
  },
  {
   "cell_type": "code",
   "execution_count": 27,
   "id": "a00e8477",
   "metadata": {},
   "outputs": [],
   "source": [
    "from sklearn.preprocessing import MinMaxScaler\n",
    "scaled= MinMaxScaler()   #Creating an empty variable\n",
    "scaled_df= scaled.fit_transform(data_df4)      #Fit to data, then transform it."
   ]
  },
  {
   "cell_type": "code",
   "execution_count": 28,
   "id": "a6625ac6",
   "metadata": {},
   "outputs": [
    {
     "data": {
      "text/plain": [
       "array([[0.67391304, 0.51612903, 0.56435644, 0.5661157 ],\n",
       "       [0.60869565, 0.46774194, 0.51485149, 0.51652893],\n",
       "       [0.23913043, 0.22580645, 0.21782178, 0.21900826],\n",
       "       [0.19565217, 0.24193548, 0.22772277, 0.22727273],\n",
       "       [0.45652174, 0.46774194, 0.47524752, 0.47520661],\n",
       "       [0.54347826, 0.74193548, 0.7029703 , 0.70247934],\n",
       "       [0.56521739, 0.77419355, 0.73267327, 0.73553719],\n",
       "       [0.7826087 , 0.66129032, 0.7029703 , 0.70247934],\n",
       "       [0.97826087, 0.72580645, 0.8019802 , 0.80165289],\n",
       "       [0.95652174, 0.79032258, 0.85148515, 0.85123967],\n",
       "       [1.        , 0.88709677, 0.93069307, 0.9338843 ],\n",
       "       [0.10869565, 0.12903226, 0.10891089, 0.10743802],\n",
       "       [0.26086957, 0.29032258, 0.28712871, 0.2892562 ],\n",
       "       [0.02173913, 0.22580645, 0.16831683, 0.16942149],\n",
       "       [0.5       , 0.58064516, 0.57425743, 0.57438017],\n",
       "       [0.60869565, 0.27419355, 0.34653465, 0.34710744],\n",
       "       [0.7826087 , 0.58064516, 0.64356436, 0.6446281 ],\n",
       "       [0.32608696, 0.29032258, 0.2970297 , 0.29752066],\n",
       "       [0.26086957, 0.4516129 , 0.41584158, 0.41735537],\n",
       "       [0.93478261, 0.79032258, 0.84158416, 0.84297521],\n",
       "       [0.        , 0.17741935, 0.12871287, 0.12809917],\n",
       "       [0.13043478, 0.30645161, 0.26732673, 0.26859504],\n",
       "       [0.45652174, 0.53225806, 0.52475248, 0.52479339],\n",
       "       [0.04347826, 0.22580645, 0.17821782, 0.17768595],\n",
       "       [0.54347826, 0.48387097, 0.5049505 , 0.50413223],\n",
       "       [0.26086957, 0.25806452, 0.25742574, 0.25619835],\n",
       "       [0.34782609, 0.17741935, 0.20792079, 0.20661157],\n",
       "       [0.30434783, 0.29032258, 0.2970297 , 0.29752066],\n",
       "       [0.56521739, 0.40322581, 0.44554455, 0.44628099],\n",
       "       [0.69565217, 0.62903226, 0.66336634, 0.66528926],\n",
       "       [0.45652174, 0.51612903, 0.51485149, 0.51652893],\n",
       "       [0.65217391, 0.46774194, 0.52475248, 0.52479339],\n",
       "       [0.10869565, 0.25806452, 0.21782178, 0.21900826],\n",
       "       [0.73913043, 0.74193548, 0.75247525, 0.75206612],\n",
       "       [0.10869565, 0.19354839, 0.16831683, 0.16942149],\n",
       "       [0.19565217, 0.0483871 , 0.04950495, 0.04958678],\n",
       "       [0.19565217, 0.29032258, 0.26732673, 0.26859504],\n",
       "       [0.47826087, 0.5483871 , 0.54455446, 0.54545455],\n",
       "       [0.54347826, 0.51612903, 0.53465347, 0.53719008],\n",
       "       [0.2173913 , 0.5483871 , 0.47524752, 0.47520661],\n",
       "       [0.08695652, 0.14516129, 0.11881188, 0.11983471],\n",
       "       [0.2826087 , 0.32258065, 0.31683168, 0.31818182],\n",
       "       [0.15217391, 0.25806452, 0.22772277, 0.22727273],\n",
       "       [0.47826087, 0.56451613, 0.55445545, 0.55371901],\n",
       "       [0.30434783, 0.56451613, 0.5049505 , 0.50413223],\n",
       "       [0.76086957, 0.70967742, 0.73267327, 0.73553719],\n",
       "       [0.36956522, 0.37096774, 0.37623762, 0.37603306],\n",
       "       [0.69565217, 0.59677419, 0.63366337, 0.63636364],\n",
       "       [0.89130435, 0.93548387, 0.93069307, 0.9338843 ],\n",
       "       [0.2173913 , 0.37096774, 0.33663366, 0.33884298],\n",
       "       [0.47826087, 0.48387097, 0.4950495 , 0.49586777],\n",
       "       [0.39130435, 0.5483871 , 0.51485149, 0.51652893],\n",
       "       [0.65217391, 0.88709677, 0.83168317, 0.83471074],\n",
       "       [0.76086957, 0.72580645, 0.75247525, 0.75206612],\n",
       "       [0.67391304, 0.9516129 , 0.88118812, 0.88429752],\n",
       "       [0.60869565, 0.4516129 , 0.4950495 , 0.49586777],\n",
       "       [0.56521739, 0.53225806, 0.55445545, 0.55371901],\n",
       "       [0.52173913, 0.5483871 , 0.55445545, 0.55371901],\n",
       "       [0.58695652, 0.48387097, 0.51485149, 0.51652893],\n",
       "       [0.26086957, 0.38709677, 0.36633663, 0.3677686 ],\n",
       "       [0.45652174, 0.30645161, 0.33663366, 0.33884298],\n",
       "       [0.26086957, 0.4516129 , 0.41584158, 0.41735537],\n",
       "       [0.47826087, 0.4516129 , 0.46534653, 0.46694215],\n",
       "       [0.54347826, 0.33870968, 0.38613861, 0.38842975],\n",
       "       [0.73913043, 0.72580645, 0.74257426, 0.74380165],\n",
       "       [0.26086957, 0.27419355, 0.26732673, 0.26859504],\n",
       "       [0.56521739, 0.46774194, 0.5049505 , 0.50413223],\n",
       "       [0.69565217, 0.61290323, 0.64356436, 0.6446281 ],\n",
       "       [0.10869565, 0.08064516, 0.05940594, 0.05785124],\n",
       "       [0.26086957, 0.22580645, 0.22772277, 0.22727273],\n",
       "       [0.43478261, 0.43548387, 0.44554455, 0.44628099],\n",
       "       [0.36956522, 0.29032258, 0.30693069, 0.30578512],\n",
       "       [0.26086957, 0.22580645, 0.22772277, 0.22727273],\n",
       "       [0.76086957, 0.88709677, 0.86138614, 0.86363636],\n",
       "       [0.56521739, 0.70967742, 0.68316832, 0.68595041],\n",
       "       [0.52173913, 0.4516129 , 0.47524752, 0.47520661],\n",
       "       [0.95652174, 1.        , 1.        , 1.        ],\n",
       "       [0.84782609, 0.67741935, 0.73267327, 0.73553719],\n",
       "       [0.69565217, 0.58064516, 0.62376238, 0.62396694],\n",
       "       [0.26086957, 0.40322581, 0.37623762, 0.37603306],\n",
       "       [0.47826087, 0.43548387, 0.45544554, 0.45454545],\n",
       "       [0.30434783, 0.37096774, 0.35643564, 0.3553719 ],\n",
       "       [0.32608696, 0.30645161, 0.30693069, 0.30578512],\n",
       "       [0.10869565, 0.09677419, 0.07920792, 0.0785124 ],\n",
       "       [0.5       , 0.61290323, 0.59405941, 0.59504132],\n",
       "       [0.73913043, 0.72580645, 0.74257426, 0.74380165],\n",
       "       [0.65217391, 0.83870968, 0.8019802 , 0.80165289],\n",
       "       [0.41304348, 0.40322581, 0.41584158, 0.41735537],\n",
       "       [0.2826087 , 0.27419355, 0.27722772, 0.2768595 ],\n",
       "       [0.2173913 , 0.37096774, 0.33663366, 0.33884298],\n",
       "       [0.69565217, 0.5483871 , 0.59405941, 0.59504132],\n",
       "       [0.26086957, 0.22580645, 0.22772277, 0.22727273],\n",
       "       [0.69565217, 0.61290323, 0.64356436, 0.6446281 ],\n",
       "       [0.32608696, 0.66129032, 0.58415842, 0.58677686],\n",
       "       [0.76086957, 0.77419355, 0.78217822, 0.78512397],\n",
       "       [0.7173913 , 0.5483871 , 0.6039604 , 0.60330579],\n",
       "       [0.63043478, 0.48387097, 0.52475248, 0.52479339],\n",
       "       [0.23913043, 0.25806452, 0.24752475, 0.24793388],\n",
       "       [0.19565217, 0.        , 0.        , 0.        ],\n",
       "       [0.67391304, 0.48387097, 0.53465347, 0.53719008],\n",
       "       [0.32608696, 0.24193548, 0.25742574, 0.25619835],\n",
       "       [0.19565217, 0.11290323, 0.10891089, 0.10743802],\n",
       "       [0.2826087 , 0.33870968, 0.32673267, 0.32644628],\n",
       "       [0.45652174, 0.59677419, 0.57425743, 0.57438017],\n",
       "       [0.19565217, 0.25806452, 0.23762376, 0.23966942],\n",
       "       [0.76086957, 0.75806452, 0.77227723, 0.77272727],\n",
       "       [0.82608696, 0.51612903, 0.6039604 , 0.60330579],\n",
       "       [0.2826087 , 0.29032258, 0.28712871, 0.2892562 ],\n",
       "       [0.32608696, 0.35483871, 0.34653465, 0.34710744]])"
      ]
     },
     "execution_count": 28,
     "metadata": {},
     "output_type": "execute_result"
    }
   ],
   "source": [
    "scaled_df"
   ]
  },
  {
   "cell_type": "code",
   "execution_count": 29,
   "id": "71af6baa",
   "metadata": {},
   "outputs": [
    {
     "name": "stdout",
     "output_type": "stream",
     "text": [
      "[0.5661157  0.51652893 0.21900826 0.22727273 0.47520661 0.70247934\n",
      " 0.73553719 0.70247934 0.80165289 0.85123967 0.9338843  0.10743802\n",
      " 0.2892562  0.16942149 0.57438017 0.34710744 0.6446281  0.29752066\n",
      " 0.41735537 0.84297521 0.12809917 0.26859504 0.52479339 0.17768595\n",
      " 0.50413223 0.25619835 0.20661157 0.29752066 0.44628099 0.66528926\n",
      " 0.51652893 0.52479339 0.21900826 0.75206612 0.16942149 0.04958678\n",
      " 0.26859504 0.54545455 0.53719008 0.47520661 0.11983471 0.31818182\n",
      " 0.22727273 0.55371901 0.50413223 0.73553719 0.37603306 0.63636364\n",
      " 0.9338843  0.33884298 0.49586777 0.51652893 0.83471074 0.75206612\n",
      " 0.88429752 0.49586777 0.55371901 0.55371901 0.51652893 0.3677686\n",
      " 0.33884298 0.41735537 0.46694215 0.38842975 0.74380165 0.26859504\n",
      " 0.50413223 0.6446281  0.05785124 0.22727273 0.44628099 0.30578512\n",
      " 0.22727273 0.86363636 0.68595041 0.47520661 1.         0.73553719\n",
      " 0.62396694 0.37603306 0.45454545 0.3553719  0.30578512 0.0785124\n",
      " 0.59504132 0.74380165 0.80165289 0.41735537 0.2768595  0.33884298\n",
      " 0.59504132 0.22727273 0.6446281  0.58677686 0.78512397 0.60330579\n",
      " 0.52479339 0.24793388 0.         0.53719008 0.25619835 0.10743802\n",
      " 0.32644628 0.57438017 0.23966942 0.77272727 0.60330579 0.2892562\n",
      " 0.34710744]\n"
     ]
    }
   ],
   "source": [
    "print(scaled_df[:,3])"
   ]
  },
  {
   "cell_type": "code",
   "execution_count": 30,
   "id": "a840a1d8",
   "metadata": {},
   "outputs": [
    {
     "data": {
      "text/plain": [
       "(109, 4)"
      ]
     },
     "execution_count": 30,
     "metadata": {},
     "output_type": "execute_result"
    }
   ],
   "source": [
    "scaled_df.shape"
   ]
  },
  {
   "cell_type": "code",
   "execution_count": 31,
   "id": "7b256695",
   "metadata": {},
   "outputs": [
    {
     "data": {
      "text/plain": [
       "array([190.  , 102.  ,   2.31,   5.54])"
      ]
     },
     "execution_count": 31,
     "metadata": {},
     "output_type": "execute_result"
    }
   ],
   "source": [
    "scaled.data_max_"
   ]
  },
  {
   "cell_type": "code",
   "execution_count": 32,
   "id": "443032d7",
   "metadata": {},
   "outputs": [
    {
     "data": {
      "text/plain": [
       "array([144.  ,  40.  ,   1.3 ,   3.12])"
      ]
     },
     "execution_count": 32,
     "metadata": {},
     "output_type": "execute_result"
    }
   ],
   "source": [
    "scaled.data_min_"
   ]
  },
  {
   "cell_type": "code",
   "execution_count": 33,
   "id": "998e2d4f",
   "metadata": {},
   "outputs": [],
   "source": [
    "#Selecting Target Variable\n",
    "\n",
    "y= data_df3['AVG RPM']\n"
   ]
  },
  {
   "cell_type": "code",
   "execution_count": 34,
   "id": "98da4b00",
   "metadata": {},
   "outputs": [
    {
     "data": {
      "text/plain": [
       "(109,)"
      ]
     },
     "execution_count": 34,
     "metadata": {},
     "output_type": "execute_result"
    }
   ],
   "source": [
    "y.shape"
   ]
  },
  {
   "cell_type": "code",
   "execution_count": 35,
   "id": "b3b5d691",
   "metadata": {},
   "outputs": [],
   "source": [
    "y = y.values.reshape(-1,1)  #Reshaping the variable"
   ]
  },
  {
   "cell_type": "code",
   "execution_count": 36,
   "id": "9242a5d8",
   "metadata": {},
   "outputs": [
    {
     "data": {
      "text/plain": [
       "(109, 1)"
      ]
     },
     "execution_count": 36,
     "metadata": {},
     "output_type": "execute_result"
    }
   ],
   "source": [
    "y.shape"
   ]
  },
  {
   "cell_type": "code",
   "execution_count": 37,
   "id": "c7a17916",
   "metadata": {},
   "outputs": [
    {
     "name": "stderr",
     "output_type": "stream",
     "text": [
      "C:\\Users\\Ram Shankar\\anaconda3\\envs\\ECMO\\lib\\site-packages\\sklearn\\base.py:441: UserWarning: X does not have valid feature names, but MinMaxScaler was fitted with feature names\n",
      "  warnings.warn(\n"
     ]
    }
   ],
   "source": [
    "y_scaled = scaled.fit_transform(y)"
   ]
  },
  {
   "cell_type": "code",
   "execution_count": 38,
   "id": "cf977f6e",
   "metadata": {},
   "outputs": [
    {
     "data": {
      "text/plain": [
       "array([[0.39370079],\n",
       "       [0.15748031],\n",
       "       [0.03937008],\n",
       "       [0.33070866],\n",
       "       [0.41732283],\n",
       "       [0.59055118],\n",
       "       [0.61417323],\n",
       "       [0.54330709],\n",
       "       [0.70866142],\n",
       "       [0.82677165],\n",
       "       [0.8976378 ],\n",
       "       [0.35433071],\n",
       "       [0.43307087],\n",
       "       [0.53543307],\n",
       "       [0.55905512],\n",
       "       [0.51968504],\n",
       "       [0.4488189 ],\n",
       "       [0.50393701],\n",
       "       [0.52755906],\n",
       "       [0.66929134],\n",
       "       [0.19685039],\n",
       "       [0.42519685],\n",
       "       [0.53543307],\n",
       "       [0.49606299],\n",
       "       [1.        ],\n",
       "       [0.11811024],\n",
       "       [0.43307087],\n",
       "       [0.22047244],\n",
       "       [0.37007874],\n",
       "       [0.52755906],\n",
       "       [0.55905512],\n",
       "       [0.44094488],\n",
       "       [0.27559055],\n",
       "       [0.68503937],\n",
       "       [0.40944882],\n",
       "       [0.2992126 ],\n",
       "       [0.43307087],\n",
       "       [0.35433071],\n",
       "       [0.5511811 ],\n",
       "       [0.59055118],\n",
       "       [0.11023622],\n",
       "       [0.22834646],\n",
       "       [0.58267717],\n",
       "       [0.5984252 ],\n",
       "       [0.35433071],\n",
       "       [0.71653543],\n",
       "       [0.26771654],\n",
       "       [0.31496063],\n",
       "       [0.77165354],\n",
       "       [0.41732283],\n",
       "       [0.66929134],\n",
       "       [0.56692913],\n",
       "       [0.59055118],\n",
       "       [0.50393701],\n",
       "       [0.76377953],\n",
       "       [0.45669291],\n",
       "       [0.52755906],\n",
       "       [0.55905512],\n",
       "       [0.54330709],\n",
       "       [0.47244094],\n",
       "       [0.48818898],\n",
       "       [0.66929134],\n",
       "       [0.52755906],\n",
       "       [0.44094488],\n",
       "       [0.51968504],\n",
       "       [0.11023622],\n",
       "       [0.34645669],\n",
       "       [0.44094488],\n",
       "       [0.06299213],\n",
       "       [0.19685039],\n",
       "       [0.23622047],\n",
       "       [0.19685039],\n",
       "       [0.07874016],\n",
       "       [0.5511811 ],\n",
       "       [0.53543307],\n",
       "       [0.48818898],\n",
       "       [0.67716535],\n",
       "       [0.62204724],\n",
       "       [0.61417323],\n",
       "       [0.4015748 ],\n",
       "       [0.45669291],\n",
       "       [0.39370079],\n",
       "       [0.34645669],\n",
       "       [0.31496063],\n",
       "       [0.44094488],\n",
       "       [0.51181102],\n",
       "       [0.67716535],\n",
       "       [0.41732283],\n",
       "       [0.32283465],\n",
       "       [0.35433071],\n",
       "       [0.39370079],\n",
       "       [0.15748031],\n",
       "       [0.59055118],\n",
       "       [0.35433071],\n",
       "       [0.5984252 ],\n",
       "       [0.51181102],\n",
       "       [0.47244094],\n",
       "       [0.19685039],\n",
       "       [0.        ],\n",
       "       [0.47244094],\n",
       "       [0.43307087],\n",
       "       [0.31496063],\n",
       "       [0.42519685],\n",
       "       [0.5984252 ],\n",
       "       [0.4488189 ],\n",
       "       [0.47244094],\n",
       "       [0.35433071],\n",
       "       [0.39370079],\n",
       "       [0.45669291]])"
      ]
     },
     "execution_count": 38,
     "metadata": {},
     "output_type": "execute_result"
    }
   ],
   "source": [
    "y_scaled"
   ]
  },
  {
   "cell_type": "markdown",
   "id": "4e218a60",
   "metadata": {},
   "source": [
    "# Spliting the data into Test and Train \n"
   ]
  },
  {
   "cell_type": "code",
   "execution_count": 39,
   "id": "789128bc",
   "metadata": {},
   "outputs": [],
   "source": [
    "from sklearn.model_selection import train_test_split\n",
    "X_train, X_test, y_train, y_test = train_test_split(scaled_df, y_scaled, test_size = 0.2)"
   ]
  },
  {
   "cell_type": "code",
   "execution_count": 40,
   "id": "7264e45e",
   "metadata": {},
   "outputs": [
    {
     "data": {
      "text/plain": [
       "((87, 4), (87, 1))"
      ]
     },
     "execution_count": 40,
     "metadata": {},
     "output_type": "execute_result"
    }
   ],
   "source": [
    "X_train.shape, y_train.shape"
   ]
  },
  {
   "cell_type": "code",
   "execution_count": 41,
   "id": "e665d66d",
   "metadata": {},
   "outputs": [
    {
     "data": {
      "text/plain": [
       "((22, 4), (22, 1))"
      ]
     },
     "execution_count": 41,
     "metadata": {},
     "output_type": "execute_result"
    }
   ],
   "source": [
    "X_test.shape, y_test.shape"
   ]
  },
  {
   "cell_type": "markdown",
   "id": "46ad3d05",
   "metadata": {},
   "source": [
    "# Model Building"
   ]
  },
  {
   "cell_type": "code",
   "execution_count": 42,
   "id": "7f9f23e0",
   "metadata": {},
   "outputs": [],
   "source": [
    "#!pip install tensorflow"
   ]
  },
  {
   "cell_type": "code",
   "execution_count": 43,
   "id": "413c36f1",
   "metadata": {},
   "outputs": [],
   "source": [
    "#!pip install --ignore-installed --upgrade tensorflow"
   ]
  },
  {
   "cell_type": "code",
   "execution_count": 44,
   "id": "6632440a",
   "metadata": {},
   "outputs": [],
   "source": [
    "#importing liberaries \n",
    "\n",
    "import tensorflow\n",
    "import tensorflow.keras\n",
    "from keras.models import Sequential\n",
    "from keras.layers import Dense\n",
    "from sklearn.preprocessing import MinMaxScaler"
   ]
  },
  {
   "cell_type": "code",
   "execution_count": 45,
   "id": "a127c731",
   "metadata": {},
   "outputs": [
    {
     "name": "stdout",
     "output_type": "stream",
     "text": [
      "Model: \"sequential\"\n",
      "_________________________________________________________________\n",
      "Layer (type)                 Output Shape              Param #   \n",
      "=================================================================\n",
      "dense (Dense)                (None, 20)                100       \n",
      "_________________________________________________________________\n",
      "dense_1 (Dense)              (None, 20)                420       \n",
      "_________________________________________________________________\n",
      "dense_2 (Dense)              (None, 1)                 21        \n",
      "=================================================================\n",
      "Total params: 541\n",
      "Trainable params: 541\n",
      "Non-trainable params: 0\n",
      "_________________________________________________________________\n"
     ]
    }
   ],
   "source": [
    "#Designing ANN \n",
    "\n",
    "model = Sequential()\n",
    "model.add(Dense(20, input_dim=4, activation='relu'))\n",
    "model.add(Dense(20, activation='relu'))\n",
    "#model.add(Dense(32, activation='relu'))\n",
    "model.add(Dense(1, activation='linear'))  #Linear: Because we need to make/predict certain values in the output\n",
    "model.summary()"
   ]
  },
  {
   "cell_type": "code",
   "execution_count": 46,
   "id": "131b5e05",
   "metadata": {},
   "outputs": [],
   "source": [
    "#Compliling the model\n",
    "model.compile(optimizer='adam', loss= 'mean_squared_error')\n"
   ]
  },
  {
   "cell_type": "code",
   "execution_count": 47,
   "id": "0bb62c6d",
   "metadata": {},
   "outputs": [
    {
     "name": "stdout",
     "output_type": "stream",
     "text": [
      "Epoch 1/50\n",
      "5/5 [==============================] - 1s 83ms/step - loss: 0.2511 - val_loss: 0.2524\n",
      "Epoch 2/50\n",
      "5/5 [==============================] - 0s 13ms/step - loss: 0.2019 - val_loss: 0.2094\n",
      "Epoch 3/50\n",
      "5/5 [==============================] - 0s 11ms/step - loss: 0.1669 - val_loss: 0.1739\n",
      "Epoch 4/50\n",
      "5/5 [==============================] - 0s 10ms/step - loss: 0.1393 - val_loss: 0.1469\n",
      "Epoch 5/50\n",
      "5/5 [==============================] - 0s 12ms/step - loss: 0.1209 - val_loss: 0.1286\n",
      "Epoch 6/50\n",
      "5/5 [==============================] - 0s 11ms/step - loss: 0.1056 - val_loss: 0.1121\n",
      "Epoch 7/50\n",
      "5/5 [==============================] - 0s 12ms/step - loss: 0.0921 - val_loss: 0.0957\n",
      "Epoch 8/50\n",
      "5/5 [==============================] - 0s 10ms/step - loss: 0.0775 - val_loss: 0.0788\n",
      "Epoch 9/50\n",
      "5/5 [==============================] - 0s 10ms/step - loss: 0.0633 - val_loss: 0.0627\n",
      "Epoch 10/50\n",
      "5/5 [==============================] - 0s 13ms/step - loss: 0.0505 - val_loss: 0.0483\n",
      "Epoch 11/50\n",
      "5/5 [==============================] - 0s 11ms/step - loss: 0.0380 - val_loss: 0.0370\n",
      "Epoch 12/50\n",
      "5/5 [==============================] - 0s 10ms/step - loss: 0.0292 - val_loss: 0.0284\n",
      "Epoch 13/50\n",
      "5/5 [==============================] - 0s 8ms/step - loss: 0.0222 - val_loss: 0.0234\n",
      "Epoch 14/50\n",
      "5/5 [==============================] - 0s 8ms/step - loss: 0.0183 - val_loss: 0.0215\n",
      "Epoch 15/50\n",
      "5/5 [==============================] - 0s 9ms/step - loss: 0.0169 - val_loss: 0.0214\n",
      "Epoch 16/50\n",
      "5/5 [==============================] - 0s 8ms/step - loss: 0.0167 - val_loss: 0.0220\n",
      "Epoch 17/50\n",
      "5/5 [==============================] - 0s 8ms/step - loss: 0.0168 - val_loss: 0.0224\n",
      "Epoch 18/50\n",
      "5/5 [==============================] - 0s 8ms/step - loss: 0.0169 - val_loss: 0.0224\n",
      "Epoch 19/50\n",
      "5/5 [==============================] - 0s 8ms/step - loss: 0.0169 - val_loss: 0.0221\n",
      "Epoch 20/50\n",
      "5/5 [==============================] - 0s 9ms/step - loss: 0.0167 - val_loss: 0.0219\n",
      "Epoch 21/50\n",
      "5/5 [==============================] - 0s 8ms/step - loss: 0.0166 - val_loss: 0.0216\n",
      "Epoch 22/50\n",
      "5/5 [==============================] - 0s 9ms/step - loss: 0.0165 - val_loss: 0.0214\n",
      "Epoch 23/50\n",
      "5/5 [==============================] - 0s 9ms/step - loss: 0.0166 - val_loss: 0.0213\n",
      "Epoch 24/50\n",
      "5/5 [==============================] - 0s 9ms/step - loss: 0.0166 - val_loss: 0.0213\n",
      "Epoch 25/50\n",
      "5/5 [==============================] - 0s 9ms/step - loss: 0.0166 - val_loss: 0.0213\n",
      "Epoch 26/50\n",
      "5/5 [==============================] - 0s 10ms/step - loss: 0.0165 - val_loss: 0.0213\n",
      "Epoch 27/50\n",
      "5/5 [==============================] - 0s 10ms/step - loss: 0.0165 - val_loss: 0.0213\n",
      "Epoch 28/50\n",
      "5/5 [==============================] - 0s 9ms/step - loss: 0.0165 - val_loss: 0.0213\n",
      "Epoch 29/50\n",
      "5/5 [==============================] - 0s 8ms/step - loss: 0.0165 - val_loss: 0.0214\n",
      "Epoch 30/50\n",
      "5/5 [==============================] - 0s 9ms/step - loss: 0.0164 - val_loss: 0.0214\n",
      "Epoch 31/50\n",
      "5/5 [==============================] - 0s 10ms/step - loss: 0.0164 - val_loss: 0.0214\n",
      "Epoch 32/50\n",
      "5/5 [==============================] - 0s 8ms/step - loss: 0.0164 - val_loss: 0.0214\n",
      "Epoch 33/50\n",
      "5/5 [==============================] - 0s 9ms/step - loss: 0.0164 - val_loss: 0.0213\n",
      "Epoch 34/50\n",
      "5/5 [==============================] - 0s 9ms/step - loss: 0.0164 - val_loss: 0.0213\n",
      "Epoch 35/50\n",
      "5/5 [==============================] - 0s 9ms/step - loss: 0.0164 - val_loss: 0.0213\n",
      "Epoch 36/50\n",
      "5/5 [==============================] - 0s 9ms/step - loss: 0.0164 - val_loss: 0.0212\n",
      "Epoch 37/50\n",
      "5/5 [==============================] - 0s 10ms/step - loss: 0.0164 - val_loss: 0.0212\n",
      "Epoch 38/50\n",
      "5/5 [==============================] - 0s 11ms/step - loss: 0.0164 - val_loss: 0.0212\n",
      "Epoch 39/50\n",
      "5/5 [==============================] - 0s 8ms/step - loss: 0.0164 - val_loss: 0.0212\n",
      "Epoch 40/50\n",
      "5/5 [==============================] - 0s 8ms/step - loss: 0.0165 - val_loss: 0.0211\n",
      "Epoch 41/50\n",
      "5/5 [==============================] - 0s 10ms/step - loss: 0.0164 - val_loss: 0.0212\n",
      "Epoch 42/50\n",
      "5/5 [==============================] - 0s 9ms/step - loss: 0.0163 - val_loss: 0.0213\n",
      "Epoch 43/50\n",
      "5/5 [==============================] - 0s 10ms/step - loss: 0.0163 - val_loss: 0.0213\n",
      "Epoch 44/50\n",
      "5/5 [==============================] - 0s 9ms/step - loss: 0.0163 - val_loss: 0.0213\n",
      "Epoch 45/50\n",
      "5/5 [==============================] - 0s 9ms/step - loss: 0.0163 - val_loss: 0.0213\n",
      "Epoch 46/50\n",
      "5/5 [==============================] - 0s 9ms/step - loss: 0.0163 - val_loss: 0.0213\n",
      "Epoch 47/50\n",
      "5/5 [==============================] - 0s 8ms/step - loss: 0.0163 - val_loss: 0.0212\n",
      "Epoch 48/50\n",
      "5/5 [==============================] - 0s 9ms/step - loss: 0.0163 - val_loss: 0.0211\n",
      "Epoch 49/50\n",
      "5/5 [==============================] - 0s 9ms/step - loss: 0.0163 - val_loss: 0.0211\n",
      "Epoch 50/50\n",
      "5/5 [==============================] - 0s 9ms/step - loss: 0.0163 - val_loss: 0.0211\n"
     ]
    }
   ],
   "source": [
    "model_hist= model.fit(X_train, y_train, epochs=50, batch_size=16, verbose=1, validation_split=0.2)"
   ]
  },
  {
   "cell_type": "code",
   "execution_count": 48,
   "id": "256c358c",
   "metadata": {},
   "outputs": [
    {
     "name": "stdout",
     "output_type": "stream",
     "text": [
      "dict_keys(['loss', 'val_loss'])\n"
     ]
    }
   ],
   "source": [
    "print(model_hist.history.keys())"
   ]
  },
  {
   "cell_type": "code",
   "execution_count": 49,
   "id": "5a39f703",
   "metadata": {},
   "outputs": [],
   "source": [
    "#model.save('my_model.h5')"
   ]
  },
  {
   "cell_type": "code",
   "execution_count": 50,
   "id": "87502029",
   "metadata": {},
   "outputs": [],
   "source": [
    "from tensorflow.keras.models import Sequential"
   ]
  },
  {
   "cell_type": "code",
   "execution_count": 51,
   "id": "4da3b618",
   "metadata": {},
   "outputs": [
    {
     "data": {
      "image/png": "[encoded data removed]",
      "text/plain": [
       "<Figure size 432x288 with 1 Axes>"
      ]
     },
     "metadata": {
      "needs_background": "light"
     },
     "output_type": "display_data"
    }
   ],
   "source": [
    "\n",
    "#['Traning Loss', 'Validation Loss']\n",
    "plt.plot(model_hist.history['loss'], label= 'Traning Loss')\n",
    "plt.plot(model_hist.history['val_loss'], label= 'Validation Loss')\n",
    "plt.legend()\n",
    "plt.ylabel('Training and Validation Losses')\n",
    "plt.xlabel('Epoch Number')\n",
    "plt.show()"
   ]
  },
  {
   "cell_type": "code",
   "execution_count": 1,
   "id": "039c07db",
   "metadata": {},
   "outputs": [],
   "source": [
    "from keras.models import load_model\n",
    "model = load_model('my_model.h5')"
   ]
  },
  {
   "cell_type": "code",
   "execution_count": 10,
   "id": "0f79f68d",
   "metadata": {},
   "outputs": [
    {
     "name": "stdout",
     "output_type": "stream",
     "text": [
      "Enter Height:170\n",
      "Enter Weight:75\n",
      "  \n",
      "\n",
      "Height(cm)=  170\n",
      "Weight(Kg)=  75\n",
      "Body surface area(BAS)=  1.8819316317727024\n",
      "Calculated Flow(lit/min)=  4.516635916254486\n"
     ]
    }
   ],
   "source": [
    "import math\n",
    "\n",
    "a=  int(input('Enter Height:'))\n",
    "b=  int(input('Enter Weight:'))\n",
    "\n",
    "\n",
    "c= math.sqrt(a*b/3600)\n",
    "\n",
    "d= c*2.4\n",
    "\n",
    "\n",
    "print('  \\n')\n",
    "print('Height(cm)= ', a)\n",
    "print('Weight(Kg)= ', b)\n",
    "print('Body surface area(BAS)= ', c)\n",
    "print('Calculated Flow(lit/min)= ', d)"
   ]
  },
  {
   "cell_type": "code",
   "execution_count": 11,
   "id": "c584be89",
   "metadata": {},
   "outputs": [],
   "source": [
    "import numpy as np\n",
    "X_Testing= np.array([[a, b, c, d]])"
   ]
  },
  {
   "cell_type": "code",
   "execution_count": 12,
   "id": "d4837ce8",
   "metadata": {},
   "outputs": [
    {
     "data": {
      "text/plain": [
       "(1, 1)"
      ]
     },
     "execution_count": 12,
     "metadata": {},
     "output_type": "execute_result"
    }
   ],
   "source": [
    "y_predict= model.predict(X_Testing)\n",
    "y_predict.shape"
   ]
  },
  {
   "cell_type": "code",
   "execution_count": 13,
   "id": "f49861db",
   "metadata": {},
   "outputs": [
    {
     "data": {
      "text/plain": [
       "array([[22.11563]], dtype=float32)"
      ]
     },
     "execution_count": 13,
     "metadata": {},
     "output_type": "execute_result"
    }
   ],
   "source": [
    "y_predict"
   ]
  },
  {
   "cell_type": "code",
   "execution_count": 14,
   "id": "77fe2bd2",
   "metadata": {},
   "outputs": [
    {
     "name": "stdout",
     "output_type": "stream",
     "text": [
      "Required RPM=  [2211.563]\n"
     ]
    }
   ],
   "source": [
    "print('Required RPM= ', y_predict[:,0]*100)"
   ]
  },
  {
   "cell_type": "code",
   "execution_count": null,
   "id": "2d1da03f",
   "metadata": {},
   "outputs": [],
   "source": []
  },
  {
   "cell_type": "code",
   "execution_count": null,
   "id": "97407da0",
   "metadata": {},
   "outputs": [],
   "source": []
  }
 ],
 "metadata": {
  "kernelspec": {
   "display_name": "Python 3 (ipykernel)",
   "language": "python",
   "name": "python3"
  },
  "language_info": {
   "codemirror_mode": {
    "name": "ipython",
    "version": 3
   },
   "file_extension": ".py",
   "mimetype": "text/x-python",
   "name": "python",
   "nbconvert_exporter": "python",
   "pygments_lexer": "ipython3",
   "version": "3.9.7"
  }
 },
 "nbformat": 4,
 "nbformat_minor": 5
}
